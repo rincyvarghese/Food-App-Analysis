{
  "nbformat": 4,
  "nbformat_minor": 0,
  "metadata": {
    "colab": {
      "provenance": []
    },
    "kernelspec": {
      "name": "python3",
      "display_name": "Python 3"
    },
    "language_info": {
      "name": "python"
    }
  },
  "cells": [
    {
      "cell_type": "code",
      "execution_count": null,
      "metadata": {
        "id": "NNYZoCQ3PiG8"
      },
      "outputs": [],
      "source": [
        "import pandas as pd\n",
        "import numpy as np\n",
        "import warnings\n",
        "warnings.filterwarnings(\"ignore\")\n",
        "\n"
      ]
    },
    {
      "cell_type": "code",
      "source": [
        "def read_data_from_csv():\n",
        "    hotels=pd.read_csv('zomato.csv')\n",
        "    return hotels\n",
        "def remove_unwanted_columns():\n",
        "    #DO NOT REMOVE FOLLOWING LINE\n",
        "    #call read_data_from_csv() function to get dataframe\n",
        "    hotels=read_data_from_csv()\n",
        "    hotels.drop(['address', 'phone'], inplace=True, axis = 1)\n",
        "    return hotels\n",
        "\n"
      ],
      "metadata": {
        "id": "hDPhWTgsP7S7"
      },
      "execution_count": null,
      "outputs": []
    },
    {
      "cell_type": "code",
      "source": [
        "#task2: rename columns,  only these columns are allowed in the dataset\n",
        "# Id,Name,online_order,book_table,rating,votes,location, rest_type,dish_liked,cuisines,approx_cost,type\n",
        "def rename_columns():\n",
        "    #DO NOT REMOVE FOLLOWING LINE\n",
        "    #call remove_unwanted_columns() function to get dataframe\n",
        "    hotels = remove_unwanted_columns()\n",
        "    hotels.rename(columns = {'rate':'rating','approx_cost(for two people)':'approx_cost', 'listed_in(type)':'type'}, inplace = True)\n",
        "    return hotels\n",
        "\n"
      ],
      "metadata": {
        "id": "hdLghee0QGOd"
      },
      "execution_count": null,
      "outputs": []
    },
    {
      "cell_type": "code",
      "source": [
        "#task3: handle  null values of each column\n",
        "def null_value_check():\n",
        "    #DO NOT REMOVE FOLLOWING LINE\n",
        "    #call rename_columns() function to get dataframe\n",
        "    hotels=rename_columns()\n",
        "    \n",
        "    #deleting null values of name column\n",
        "    hotels.dropna(subset = ['name'], inplace = True)\n",
        "    #handling null values of online_order\n",
        "    hotels['online_order'].fillna('NA', inplace = True)\n",
        "    #handling null values of book_table\n",
        "    hotels['book_table'].fillna('NA', inplace = True)\n",
        "    #handling null values of rating\n",
        "    hotels['rating'].fillna(0, inplace = True) \n",
        "    #handling null values of votes\n",
        "    hotels['votes'].fillna(0, inplace = True)   \n",
        "    #handling null values of location\n",
        "    hotels['location'].fillna('NA', inplace = True)\n",
        "    #handling null values of rest_type\n",
        "    hotels['rest_type'].fillna('NA', inplace = True)\n",
        "    #handling null values of dishliked\n",
        "    hotels['dish_liked'].fillna('NA', inplace = True)\n",
        "    #handling null values of cuisines\n",
        "    hotels['cuisines'].fillna('NA', inplace = True)\n",
        "    #handling null values of approxcost\n",
        "    hotels['approx_cost'].fillna(0, inplace = True)\n",
        "    #handling null values of type\n",
        "    hotels['type'].fillna('NA', inplace = True)\n",
        "    return hotels\n",
        "\n",
        "\n",
        "\n"
      ],
      "metadata": {
        "id": "AFJyvLahQgKC"
      },
      "execution_count": null,
      "outputs": []
    },
    {
      "cell_type": "code",
      "source": [
        "#task4 #find duplicates in the dataset\n",
        "def find_duplicates():\n",
        "    #DO NOT REMOVE FOLLOWING LINE\n",
        "    #call null_value_check() function to get dataframe\n",
        "    hotels=null_value_check()\n",
        "    #droping the duplicates value keeping the first\n",
        "    hotels.drop_duplicates(keep = 'first', inplace = True)\n",
        "    return hotels\n",
        "\n",
        "\n"
      ],
      "metadata": {
        "id": "fqGdUTrgQgho"
      },
      "execution_count": null,
      "outputs": []
    },
    {
      "cell_type": "code",
      "source": [
        "#task5 removing irrelevant text from all the columns\n",
        "def removing_irrelevant_text():\n",
        "    #DO NOT REMOVE FOLLOWING LINE\n",
        "    #call find_duplicates() function to get dataframe\n",
        "    hotels= find_duplicates()\n",
        "    hotels = hotels[hotels['name'].str.contains('RATED|Rated') == False]\n",
        "    hotels = hotels[hotels['online_order'].str.contains('RATED|Rated') == False]\n",
        "    hotels = hotels[hotels['book_table'].str.contains('RATED|Rated') == False]\n",
        "    hotels = hotels[hotels['rating'].str.contains('RATED|Rated') == False]\n",
        "    hotels = hotels[hotels['votes'].str.contains('RATED|Rated') == False]\n",
        "    hotels = hotels[hotels['location'].str.contains('RATED|Rated') == False]\n",
        "    hotels = hotels[hotels['rest_type'].str.contains('RATED|Rated') == False]\n",
        "    hotels = hotels[hotels['dish_liked'].str.contains('RATED|Rated') == False]\n",
        "    hotels = hotels[hotels['cuisines'].str.contains('RATED|Rated') == False]\n",
        "    hotels = hotels[hotels['approx_cost'].str.contains('RATED|Rated') == False]\n",
        "    hotels = hotels[hotels['type'].str.contains('RATED|Rated') == False]\n",
        "\n",
        "    return hotels\n",
        "\n",
        "\n"
      ],
      "metadata": {
        "id": "SzjpQLv_QmvY"
      },
      "execution_count": null,
      "outputs": []
    },
    {
      "cell_type": "code",
      "source": [
        "#task6: check for unique values in each column and handle the irrelevant values\n",
        "def check_for_unique_values():\n",
        "    #DO NOT REMOVE FOLLOWING LINE\n",
        "    #call removing_irrelevant_text() function to get dataframe\n",
        "    hotels=removing_irrelevant_text()\n",
        "    hotels = hotels[hotels['online_order'].str.contains('Yes|No') == True]\n",
        "    hotels['rating'] = hotels['rating'].str.replace('NEW', '0')\n",
        "    hotels['rating'] = hotels['rating'].str.replace('-', '0')\n",
        "    hotels['rating'] = hotels['rating'].str.replace('/5','')\n",
        "    hotels['rating'] = hotels['rating'].apply(lambda x : pd.to_numeric(x, errors ='ignore') if x == '0' else x)\n",
        "    return hotels\n",
        "\n",
        "\n"
      ],
      "metadata": {
        "id": "KQ6fZTR5Qp6u"
      },
      "execution_count": null,
      "outputs": []
    },
    {
      "cell_type": "code",
      "source": [
        "#task7: remove the unknown character from the dataset and export it to \"zomatocleaned.csv\"\n",
        "def remove_the_unknown_character():\n",
        "    #DO NOT REMOVE FOLLOWING LINE\n",
        "    #call check_for_unique_values() function to get dataframe\n",
        "    dataframe=check_for_unique_values()\n",
        "\n",
        "    #remove unknown character from dataset\n",
        "    dataframe['name'] = dataframe['name'].str.replace('[Ãx][^A-Za-z]+','',regex=True)\n",
        "\n",
        "    \n",
        "    #export cleaned Dataset to newcsv file named \"zomatocleaned.csv\"\n",
        "    dataframe.to_csv('zomatocleaned.csv')\n",
        "    return dataframe\n"
      ],
      "metadata": {
        "id": "VGxwUIZUQ8pS"
      },
      "execution_count": null,
      "outputs": []
    }
  ]
}